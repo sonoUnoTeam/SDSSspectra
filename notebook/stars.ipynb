{
 "cells": [
  {
   "cell_type": "markdown",
   "id": "55e3cedb-bab4-4ff6-9e7e-4c4f1fb41e5c",
   "metadata": {},
   "source": [
    "# Importaciones Generales\n",
    "\n",
    "#### Se importan las librerias principales para ejecutar el codigo.\n"
   ]
  },
  {
   "cell_type": "code",
   "execution_count": null,
   "id": "370db56d-a5c7-4b33-8d8f-38afcd06f42a",
   "metadata": {},
   "outputs": [],
   "source": [
    "\"\"\"\n",
    "Created on Wed Jan 24 08:30:39 2024\n",
    "@author: JMCasado\n",
    "\"\"\"\n",
    "#General import\n",
    "import sys\n",
    "import os\n",
    "import argparse\n",
    "import glob\n",
    "import numpy as np\n",
    "import datetime\n",
    "import matplotlib\n",
    "import matplotlib.pyplot as plt\n",
    "import math\n",
    "import pandas as pd"
   ]
  },
  {
   "cell_type": "markdown",
   "id": "5d7d2720-d3ba-4232-88d6-8b0e54f9b536",
   "metadata": {},
   "source": [
    "# Importaciones Locales\n",
    "### Las librerias internas se importan mediante el uso de from"
   ]
  },
  {
   "cell_type": "code",
   "execution_count": null,
   "id": "c1449485-bae2-4325-b367-f4a0809dc129",
   "metadata": {},
   "outputs": [],
   "source": [
    "sys.path.append(\"../\")\n",
    "\n",
    "import notebook as brl\n",
    "\n",
    "from data_transform import smooth\n",
    "from data_export.data_export import DataExport\n",
    "from data_import.data_import import DataImport\n",
    "from sound_module.simple_sound import simpleSound\n",
    "from data_transform.predef_math_functions import PredefMathFunctions"
   ]
  },
  {
   "cell_type": "markdown",
   "id": "d4a69bc2-98ab-4690-b845-3084c23d6813",
   "metadata": {},
   "source": [
    "# Instanciar las clases necesarias de sonoUno"
   ]
  },
  {
   "cell_type": "code",
   "execution_count": null,
   "id": "f40a79d8-c219-4f58-a650-0de8ed24e096",
   "metadata": {},
   "outputs": [],
   "source": [
    "# Instanciate the sonoUno clases needed\n",
    "_dataexport = DataExport(False)\n",
    "_dataimport = DataImport()\n",
    "_simplesound = simpleSound()\n",
    "_math = PredefMathFunctions()"
   ]
  },
  {
   "cell_type": "code",
   "execution_count": null,
   "id": "9ee40a5f-40ee-4d1b-b938-14d1f5141bb1",
   "metadata": {},
   "outputs": [],
   "source": [
    "plot_flag = True\n",
    "\n",
    "i = 1\n",
    "if plot_flag:\n",
    "    # Create an empty figure or plot to save it\n",
    "    cm = 1/2.54  # centimeters in inches\n",
    "    #fig = plt.figure(figsize=(15*cm, 10*cm), dpi=300)\n",
    "    fig = plt.figure()\n",
    "    # Defining the axes so that we can plot data into it.\n",
    "    #ax = plt.axes()\n",
    "#Inits to generalize"
   ]
  },
  {
   "cell_type": "markdown",
   "id": "c23a8233-1d25-4243-aa06-c67d115e2233",
   "metadata": {},
   "source": [
    "# Configuración del sonido, predefinida en el momento."
   ]
  },
  {
   "cell_type": "code",
   "execution_count": null,
   "id": "6a9b3173-0933-4385-9237-d567ab869cd3",
   "metadata": {},
   "outputs": [],
   "source": [
    "_simplesound.reproductor.set_continuous()\n",
    "_simplesound.reproductor.set_waveform('celesta') # piano; sine\n",
    "_simplesound.reproductor.set_time_base(0.01)\n",
    "_simplesound.reproductor.set_min_freq(300)\n",
    "_simplesound.reproductor.set_max_freq(1500)"
   ]
  },
  {
   "cell_type": "code",
   "execution_count": null,
   "id": "848acb85-7b16-4114-9f51-5cf080ffdada",
   "metadata": {},
   "outputs": [],
   "source": [
    "# Loop to walk the directory and sonify each data file\n",
    "now = datetime.datetime.now()\n",
    "print(now.strftime('%Y-%m-%d_%H-%M-%S'))"
   ]
  },
  {
   "cell_type": "markdown",
   "id": "556ab46b-9c47-4582-9a97-ba290602706a",
   "metadata": {},
   "source": [
    "# Se inserta un archivo de ejemplo\n",
    "\n",
    "#### En este caso se escribe en el path los ejemplos que se encuentran en la carpeta data_stars"
   ]
  },
  {
   "cell_type": "code",
   "execution_count": null,
   "id": "a1b494e0-137c-4b11-ba71-f2fa4f3f3ba8",
   "metadata": {},
   "outputs": [],
   "source": [
    "# Open each file\n",
    "ext = 'txt'\n",
    "\n",
    "data1, status, msg = _dataimport.set_arrayfromfile(\"../data_stars/O5.txt\", ext)\n",
    "data2, status, msg = _dataimport.set_arrayfromfile(\"../data_stars/A5.txt\", ext)\n",
    "data3, status, msg = _dataimport.set_arrayfromfile(\"../data_stars/G0.txt\", ext)\n",
    "data4, status, msg = _dataimport.set_arrayfromfile(\"../data_stars/star-x.txt\", ext)\n",
    "# Convert into numpy, split in x and y and normalyze\n",
    "if data1.shape[1]<2:\n",
    "    print(\"Error reading file 1, only detect one column.\")\n",
    "    exit()\n",
    "if data2.shape[1]<2:\n",
    "    print(\"Error reading file 2, only detect one column.\")\n",
    "    exit()\n",
    "if data3.shape[1]<2:\n",
    "    print(\"Error reading file 3, only detect one column.\")\n",
    "    exit()\n",
    "if data4.shape[1]<2:\n",
    "    print(\"Error reading file 4, only detect one column.\")\n",
    "    exit()\n",
    "# Extract the names and turn to float\n",
    "data_float1 = data1.iloc[1:, 1:].astype(float)\n",
    "data_float2 = data2.iloc[1:, 1:].astype(float)\n",
    "data_float3 = data3.iloc[1:, 1:].astype(float)\n",
    "data_float4 = data4.iloc[1:, 1:].astype(float)"
   ]
  },
  {
   "cell_type": "markdown",
   "id": "4a2eef82-ae7e-4565-b8cf-47d668fad292",
   "metadata": {},
   "source": [
    "# Inicializamos la posición para no tener error cuando no haya recortes"
   ]
  },
  {
   "cell_type": "code",
   "execution_count": null,
   "id": "009629ed-ecef-4641-a3ed-2f8e8e16b0c8",
   "metadata": {},
   "outputs": [],
   "source": [
    "x_pos_min = 0\n",
    "\n",
    "# Cut first data set\n",
    "abs_val_array = np.abs(data_float1.loc[:,1] - 3700)\n",
    "x_pos_min = abs_val_array.idxmin()\n",
    "abs_val_array = np.abs(data_float1.loc[:,1] - 4700)\n",
    "x_pos_max = abs_val_array.idxmin()\n",
    "data_float1 = data1.iloc[x_pos_min:x_pos_max, :].astype(float)\n",
    "# Cut second data set\n",
    "data_float2 = data2.iloc[x_pos_min:x_pos_max, :].astype(float)\n",
    "# Cut third data set\n",
    "data_float3 = data3.iloc[x_pos_min:x_pos_max, :].astype(float)\n",
    "# Cut fourth data set\n",
    "data_float4 = data4.iloc[x_pos_min:x_pos_max, :].astype(float)\n"
   ]
  },
  {
   "cell_type": "markdown",
   "id": "c68f940b-dbe8-48e2-a8c2-84751ca8fb6c",
   "metadata": {},
   "source": [
    "# Mostrar los graficos superpuestos\n",
    "### Se crean a partir de los ejemplos anteriores"
   ]
  },
  {
   "cell_type": "code",
   "execution_count": null,
   "id": "3a45bb25-951f-4ca2-9320-e01e03d28299",
   "metadata": {},
   "outputs": [],
   "source": [
    "path1 = 'data_stars/'\n",
    "plot_flag = True\n",
    "if plot_flag:\n",
    "    # Configure axis, plot the data and save it\n",
    "    # Erase the plot\n",
    "    #ax.cla()\n",
    "    # First file of the column is setted as axis name\n",
    "    #x_name = str(data1.iloc[0,0])\n",
    "    #ax.set_xlabel(x_name)\n",
    "    # Separate the name file from the path to set the plot title\n",
    "    #head, tail = os.path.split(filename)\n",
    "    #ax.plot(data_float1.loc[:,0], data_float1.loc[:,1], label='Flux-Barred spiral')\n",
    "    #ax.plot(data_float1.loc[:,0], data_float1.loc[:,2], label='Best Fit')\n",
    "    #ax.plot(data_float1.loc[:,0], data_float1.loc[:,3], label='Sky Flux')\n",
    "    #ax.plot(data_float2.loc[:,0], data_float2.loc[:,1], label='Flux-Double nucleus')\n",
    "    \n",
    "    #First plot\n",
    "    ax1 = plt.subplot(311)      #ax = plt.subplot(111) para un solo plot\n",
    "    ax1.plot(data_float1.loc[:,1], data_float1.loc[:,2], label='O5 V')\n",
    "    ax1.plot(data_float4.loc[:,1], data_float4.loc[:,2], label='Unknown')\n",
    "    #plt.tick_params('x', labelsize=6)\n",
    "    ax1.tick_params('x', labelbottom=False)\n",
    "\n",
    "    # Second plot\n",
    "    ax2 = plt.subplot(312, sharex=ax1)\n",
    "    ax2.plot(data_float2.loc[:,1], data_float2.loc[:,2], label='A5 V')\n",
    "    ax2.plot(data_float4.loc[:,1], data_float4.loc[:,2], label='Unknown')\n",
    "    # make these tick labels invisible\n",
    "    ax2.tick_params('x', labelbottom=False)\n",
    "\n",
    "    # Third plot\n",
    "    ax3 = plt.subplot(313, sharex=ax1, sharey=ax1)\n",
    "    ax3.plot(data_float3.loc[:,1], data_float3.loc[:,2], label='G0 V')\n",
    "    ax3.plot(data_float4.loc[:,1], data_float4.loc[:,2], label='Unknown')\n",
    "    \n",
    "    ax1.legend()\n",
    "    ax2.legend()\n",
    "    ax3.legend()\n",
    "    plt.pause(0.05)\n",
    "    # Set the path to save the plot and save it\n",
    "    plot_path = path1[:-6] + 'plot.png'\n",
    "    fig.savefig(plot_path)"
   ]
  },
  {
   "cell_type": "code",
   "execution_count": null,
   "id": "69c1e62f-71b3-4863-a648-f369c43a9fb3",
   "metadata": {},
   "outputs": [],
   "source": [
    "# Reproduction\n",
    "# Normalize the data to sonify\n",
    "x1, y1, status = _math.normalize(data_float1.loc[:,1], data_float1.loc[:,2], init=x_pos_min)\n",
    "x2, y2, status = _math.normalize(data_float2.loc[:,1], data_float2.loc[:,2], init=x_pos_min)\n",
    "x3, y3, status = _math.normalize(data_float3.loc[:,1], data_float3.loc[:,2], init=x_pos_min)\n",
    "x4, y4, status = _math.normalize(data_float4.loc[:,1], data_float4.loc[:,2], init=x_pos_min)\n",
    "\n",
    "# Reproduction\n",
    "minval1 = float(data_float1.loc[:,2].min())\n",
    "maxval1 = float(data_float1.loc[:,2].max())\n",
    "minval2 = float(data_float2.loc[:,2].min())\n",
    "maxval2 = float(data_float2.loc[:,2].max())\n",
    "minval3 = float(data_float3.loc[:,2].min())\n",
    "maxval3 = float(data_float3.loc[:,2].max())\n",
    "minval4 = float(data_float4.loc[:,2].min())\n",
    "maxval4 = float(data_float4.loc[:,2].max())\n",
    "\n",
    "# To make reproduction on real time\n",
    "ordenada1 = np.array([min(minval1,minval4), max(maxval1,maxval4)])\n",
    "ordenada2 = np.array([min(minval2,minval4), max(maxval2,maxval4)])\n",
    "ordenada3 = np.array([min(minval3,minval4), max(maxval3,maxval4)])"
   ]
  },
  {
   "cell_type": "markdown",
   "id": "a19dadec-7b42-4ed1-abe5-0c9d64e1c289",
   "metadata": {},
   "source": [
    "# Reproducimos el sonido de los graficos."
   ]
  },
  {
   "cell_type": "code",
   "execution_count": null,
   "id": "083be94d-f6be-43f8-8ca3-957cbdc31ead",
   "metadata": {},
   "outputs": [],
   "source": [
    "for i in range (1, 4):\n",
    "    print(i)\n",
    "    for x in range (x_pos_min, x_pos_max):\n",
    "        if i==1:\n",
    "            # Plot the position line\n",
    "            if not x == x_pos_min:\n",
    "                line = red_line.pop(0)\n",
    "                line.remove()\n",
    "            abscisa = np.array([float(data_float1.loc[x,1]), float(data_float1.loc[x,1])])\n",
    "            red_line = ax1.plot(abscisa, ordenada1, 'r')\n",
    "            plt.pause(0.05)\n",
    "            # Make the sound\n",
    "            _simplesound.reproductor.set_waveform('sine')\n",
    "            _simplesound.make_sound(y1[x], 1)\n",
    "            _simplesound.reproductor.set_waveform('flute')\n",
    "            _simplesound.make_sound(y4[x], 1)\n",
    "            if x == (x_pos_max-1):\n",
    "                line = red_line.pop(0)\n",
    "                line.remove()\n",
    "        if i==2:\n",
    "            # Plot the position line\n",
    "            if not x == x_pos_min:\n",
    "                line = red_line.pop(0)\n",
    "                line.remove()\n",
    "            abscisa = np.array([float(data_float1.loc[x,1]), float(data_float1.loc[x,1])])\n",
    "            red_line = ax2.plot(abscisa, ordenada2, 'r')\n",
    "            plt.pause(0.05)\n",
    "            # Make the sound\n",
    "            _simplesound.reproductor.set_waveform('sine')\n",
    "            _simplesound.make_sound(y2[x], 1)\n",
    "            _simplesound.reproductor.set_waveform('flute')\n",
    "            _simplesound.make_sound(y4[x], 1)\n",
    "            if x == (x_pos_max-1):\n",
    "                line = red_line.pop(0)\n",
    "                line.remove()\n",
    "        if i==3:\n",
    "            # Plot the position line\n",
    "            if not x == x_pos_min:\n",
    "                line = red_line.pop(0)\n",
    "                line.remove()\n",
    "            abscisa = np.array([float(data_float1.loc[x,1]), float(data_float1.loc[x,1])])\n",
    "            red_line = ax3.plot(abscisa, ordenada3, 'r')\n",
    "            plt.pause(0.05)\n",
    "            # Make the sound\n",
    "            _simplesound.reproductor.set_waveform('sine')\n",
    "            _simplesound.make_sound(y3[x], 1)\n",
    "            _simplesound.reproductor.set_waveform('flute')\n",
    "            _simplesound.make_sound(y4[x], 1)\n",
    "            if x == (x_pos_max-1):\n",
    "                line = red_line.pop(0)\n",
    "                line.remove()"
   ]
  },
  {
   "cell_type": "markdown",
   "id": "a52c3c1a-a93a-4a69-bdc8-82bb99532802",
   "metadata": {},
   "source": [
    "# Guardado de audio"
   ]
  },
  {
   "cell_type": "code",
   "execution_count": null,
   "id": "c2207608-d87d-423d-905d-65cb4a9b76bc",
   "metadata": {},
   "outputs": [],
   "source": [
    "wav_name1 = path1[:-6] + 'O5-unknown.wav'\n",
    "wav_name2 = path1[:-6] + 'A5-unknown.wav'\n",
    "wav_name3 = path1[:-6] + 'G0-unknown.wav'\n",
    "_simplesound.save_sound_multicol_stars(wav_name1, data_float1.loc[:,1], y1, y4, init=x_pos_min) \n",
    "#_simplesound.save_sound(wav_name1, data_float1.loc[:,1], data_float1.loc[:,2], init=x_pos_min)\n",
    "_simplesound.save_sound_multicol_stars(wav_name2, data_float1.loc[:,1], y2, y4, init=x_pos_min)\n",
    "_simplesound.save_sound_multicol_stars(wav_name3, data_float1.loc[:,1], y3, y4, init=x_pos_min)\n",
    "# Print time\n",
    "now = datetime.datetime.now()\n",
    "print(now.strftime('%Y-%m-%d_%H-%M-%S'))\n",
    "\n",
    "plt.pause(0.5)\n",
    "# Showing the above plot\n",
    "plt.show()\n",
    "plt.close()"
   ]
  }
 ],
 "metadata": {
  "kernelspec": {
   "display_name": "Python 3 (ipykernel)",
   "language": "python",
   "name": "python3"
  },
  "language_info": {
   "codemirror_mode": {
    "name": "ipython",
    "version": 3
   },
   "file_extension": ".py",
   "mimetype": "text/x-python",
   "name": "python",
   "nbconvert_exporter": "python",
   "pygments_lexer": "ipython3",
   "version": "3.11.6"
  }
 },
 "nbformat": 4,
 "nbformat_minor": 5
}
