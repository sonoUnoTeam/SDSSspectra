{
 "cells": [
  {
   "cell_type": "markdown",
   "id": "aede2b7e-dcda-4083-b1fd-d1a4087051a5",
   "metadata": {},
   "source": [
    "# Importamos las librerias generales y locales."
   ]
  },
  {
   "cell_type": "code",
   "execution_count": 23,
   "id": "964658f5-1edc-4f4c-af7e-f817c6307d84",
   "metadata": {},
   "outputs": [
    {
     "ename": "NameError",
     "evalue": "name 'sys' is not defined",
     "output_type": "error",
     "traceback": [
      "\u001b[0;31m---------------------------------------------------------------------------\u001b[0m",
      "\u001b[0;31mNameError\u001b[0m                                 Traceback (most recent call last)",
      "Cell \u001b[0;32mIn[23], line 18\u001b[0m\n\u001b[1;32m     15\u001b[0m \u001b[38;5;28;01mimport\u001b[39;00m \u001b[38;5;21;01mmath\u001b[39;00m\n\u001b[1;32m     16\u001b[0m \u001b[38;5;28;01mimport\u001b[39;00m \u001b[38;5;21;01mpandas\u001b[39;00m \u001b[38;5;28;01mas\u001b[39;00m \u001b[38;5;21;01mpd\u001b[39;00m\n\u001b[0;32m---> 18\u001b[0m \u001b[43msys\u001b[49m\u001b[38;5;241m.\u001b[39mpath\u001b[38;5;241m.\u001b[39mappend(\u001b[38;5;124m\"\u001b[39m\u001b[38;5;124m../\u001b[39m\u001b[38;5;124m\"\u001b[39m)\n\u001b[1;32m     20\u001b[0m \u001b[38;5;28;01mimport\u001b[39;00m \u001b[38;5;21;01mnotebook\u001b[39;00m \u001b[38;5;28;01mas\u001b[39;00m \u001b[38;5;21;01mbrl\u001b[39;00m\n\u001b[1;32m     22\u001b[0m \u001b[38;5;66;03m#Local import\u001b[39;00m\n",
      "\u001b[0;31mNameError\u001b[0m: name 'sys' is not defined"
     ]
    }
   ],
   "source": [
    "# -*- coding: utf-8 -*-\n",
    "\"\"\"\n",
    "Created on Wed Jan 24 08:30:39 2024\n",
    "\n",
    "@author: JMCasado\n",
    "\"\"\"\n",
    "\n",
    "#General import\n",
    "import os\n",
    "import argparse\n",
    "import glob\n",
    "import numpy as np\n",
    "import datetime\n",
    "import matplotlib.pyplot as plt\n",
    "import math\n",
    "import pandas as pd\n",
    "\n",
    "sys.path.append(\"../\")\n",
    "\n",
    "import notebook as brl\n",
    "\n",
    "#Local import\n",
    "from data_transform import smooth\n",
    "from data_export.data_export import DataExport\n",
    "from data_import.data_import import DataImport\n",
    "from sound_module.simple_sound import simpleSound\n",
    "from data_transform.predef_math_functions import PredefMathFunctions"
   ]
  },
  {
   "cell_type": "markdown",
   "id": "5a586256-df03-4c5c-81b8-087cdb86da7d",
   "metadata": {},
   "source": [
    "# Instanciar las clases de sonoUno necesarias"
   ]
  },
  {
   "cell_type": "code",
   "execution_count": 5,
   "id": "9c8e78ec-98cc-49cc-870e-d641b6f28037",
   "metadata": {},
   "outputs": [],
   "source": [
    "\n",
    "_dataexport = DataExport(False)\n",
    "_dataimport = DataImport()\n",
    "_simplesound = simpleSound()\n",
    "_math = PredefMathFunctions()\n",
    "# Sound configurations, predefined at the moment\n",
    "_simplesound.reproductor.set_continuous()\n",
    "_simplesound.reproductor.set_waveform('celesta')\n",
    "_simplesound.reproductor.set_time_base(0.05)\n",
    "_simplesound.reproductor.set_min_freq(300)\n",
    "_simplesound.reproductor.set_max_freq(1500)\n",
    "# The argparse library is used to pass the path and extension where the data\n",
    "# files are located"
   ]
  },
  {
   "cell_type": "markdown",
   "id": "d8885048-ca80-4502-8a67-bdfe84ae1bdb",
   "metadata": {},
   "source": [
    "# Creamos el grafico"
   ]
  },
  {
   "cell_type": "code",
   "execution_count": 21,
   "id": "46d168e4-f22a-4c00-bc14-dc7986920492",
   "metadata": {},
   "outputs": [
    {
     "data": {
      "text/plain": [
       "<Figure size 640x480 with 0 Axes>"
      ]
     },
     "metadata": {},
     "output_type": "display_data"
    }
   ],
   "source": [
    "i = 1\n",
    "plot_flag = True\n",
    "if plot_flag:\n",
    "    # Create an empty figure or plot to save it\n",
    "    #cm = 1/2.54  # centimeters in inches\n",
    "    #fig = plt.figure(figsize=(5*cm, 1*cm), dpi=300)\n",
    "    fig = plt.figure()\n",
    "    # Defining the axes so that we can plot data into it.\n",
    "    #ax = plt.axes()\n",
    "#Inits to generalize"
   ]
  },
  {
   "cell_type": "markdown",
   "id": "146d26ef-470c-4851-8bc7-bc636e10e4a0",
   "metadata": {},
   "source": [
    "# Bucle para recorrer el directorio y sonificar cada archivo de datos."
   ]
  },
  {
   "cell_type": "code",
   "execution_count": 12,
   "id": "56f2b4c2-7de0-4a3d-aaaa-4411e8349cb1",
   "metadata": {},
   "outputs": [
    {
     "name": "stdout",
     "output_type": "stream",
     "text": [
      "2024-06-23_22-30-41\n",
      "Converting data file number 1 to sound.\n"
     ]
    }
   ],
   "source": [
    " \n",
    "now = datetime.datetime.now()\n",
    "print(now.strftime('%Y-%m-%d_%H-%M-%S'))\n",
    "\n",
    "ext = 'txt'\n",
    "\n",
    "path1 = 'data_stars/star-x.txt'\n",
    "path2 = 'data_stars/O5.txt'\n",
    "\n",
    "#for filename in glob.glob(os.path.join(path, extension)):\n",
    "print(\"Converting data file number \"+str(i)+\" to sound.\")\n",
    "# Open each file\n",
    "data1, status, msg = _dataimport.set_arrayfromfile(path1, ext)\n",
    "data2, status, msg = _dataimport.set_arrayfromfile(path2, ext)\n",
    "# Convert into numpy, split in x and y and normalyze\n",
    "if data1.shape[1]<2:\n",
    "    print(\"Error reading file 1, only detect one column.\")\n",
    "    exit()\n",
    "if data2.shape[1]<2:\n",
    "    print(\"Error reading file 2, only detect one column.\")\n",
    "    exit()\n",
    "# Extract the names and turn to float\n",
    "data_float1 = data1.iloc[1:, :].astype(float)\n",
    "data_float2 = data2.iloc[1:, :].astype(float)"
   ]
  },
  {
   "cell_type": "code",
   "execution_count": 15,
   "id": "20dbe283-fa43-4b5c-a0e2-bb5110e9faac",
   "metadata": {},
   "outputs": [],
   "source": [
    "# Cut first data set\n",
    "\n",
    "#data_float1 = data1.iloc[x_pos_min:x_pos_max, :].astype(float)\n",
    "# Cut second data set\n",
    "#data_float2 = data2.iloc[x_pos_min:x_pos_max, :].astype(float)\n",
    "\n",
    "# Generate the plot if needed\n",
    "if plot_flag:\n",
    "    # Configure axis, plot the data and save it\n",
    "    # Erase the plot\n",
    "    ax.cla()\n",
    "    # First file of the column is setted as axis name\n",
    "    x_name = str(data1.iloc[0,0])\n",
    "    ax.set_xlabel(x_name)\n",
    "    # Separate the name file from the path to set the plot title\n",
    "    #head, tail = os.path.split(filename)\n",
    "    ax.plot(data_float1.loc[:,0], data_float1.loc[:,1], label='Flux-Barred spiral')\n",
    "    #ax.plot(data_float1.loc[:,0], data_float1.loc[:,2], label='Best Fit')\n",
    "    #ax.plot(data_float1.loc[:,0], data_float1.loc[:,3], label='Sky Flux')\n",
    "    ax.plot(data_float2.loc[:,0], data_float2.loc[:,1], label='Flux-Double nucleus')\n",
    "    ax.legend()\n",
    "    # Set the path to save the plot and save it\n",
    "    #plot_path = path1[:-4] + '_plot.png'\n",
    "    fig.savefig(plot_path)\n",
    "    plt.pause(0.001)\n",
    "# Normalize the data to sonify\n",
    "x1, y1, status = _math.normalize(data_float1.loc[:,0], data_float1.loc[:,1], init=1)\n",
    "#x, y2, status = _math.normalize(data_float1.loc[:,0], data_float1.loc[:,2], init=1)\n",
    "#x, y3, status = _math.normalize(data_float1.loc[:,0], data_float1.loc[:,3], init=1)\n",
    "x2, y2, status = _math.normalize(data_float2.loc[:,0], data_float2.loc[:,1], init=1)"
   ]
  },
  {
   "cell_type": "markdown",
   "id": "9f09bf61-64a2-4ea1-9571-5c964c458f61",
   "metadata": {},
   "source": [
    "# Reproducción de sonido"
   ]
  },
  {
   "cell_type": "code",
   "execution_count": 22,
   "id": "93d0f5db-8c0f-40a5-a854-5f55872634da",
   "metadata": {},
   "outputs": [],
   "source": [
    "minval1 = float(np.abs(data_float1.loc[:,1]).min())\n",
    "maxval1 = float(np.abs(data_float1.loc[:,1]).max())\n",
    "minval2 = float(data_float2.loc[:,1].min())\n",
    "maxval2 = float(data_float2.loc[:,1].max())\n",
    "\n",
    "ordenada = np.array([min(minval1, minval2), max(maxval1, maxval2)])\n"
   ]
  },
  {
   "cell_type": "code",
   "execution_count": 18,
   "id": "1762eb01-2b7b-4bdf-836d-8b1ca81edad0",
   "metadata": {},
   "outputs": [],
   "source": [
    "for x in range (1, data_float1.loc[:,0].size):\n",
    "    # Plot the position line\n",
    "    if not x == 1:\n",
    "        line = red_line.pop(0)\n",
    "        line.remove()\n",
    "    abscisa = np.array([float(data_float1.loc[x,0]), float(data_float1.loc[x,0])])\n",
    "    red_line = ax.plot(abscisa, ordenada, 'r')\n",
    "    plt.pause(0.05)\n",
    "    # Make the sound\n",
    "    _simplesound.reproductor.set_waveform('sine')\n",
    "    _simplesound.make_sound(y1[x], 1)\n",
    "    _simplesound.reproductor.set_waveform('flute')\n",
    "    _simplesound.make_sound(y2[x], 1)"
   ]
  },
  {
   "cell_type": "code",
   "execution_count": 19,
   "id": "ef7d2b90-2463-4c4b-9c82-7babfba2e7fb",
   "metadata": {},
   "outputs": [
    {
     "name": "stdout",
     "output_type": "stream",
     "text": [
      "2024-06-23_22-35-32\n"
     ]
    }
   ],
   "source": [
    "# Print time\n",
    "now = datetime.datetime.now()\n",
    "print(now.strftime('%Y-%m-%d_%H-%M-%S'))\n",
    "# Counter\n",
    "i = i + 1\n",
    "\n",
    "plt.pause(0.5)\n",
    "# Showing the above plot\n",
    "plt.show()\n",
    "plt.close()"
   ]
  },
  {
   "cell_type": "code",
   "execution_count": null,
   "id": "fd48765f-a43c-492f-b3e7-cc50e645ff25",
   "metadata": {},
   "outputs": [],
   "source": []
  }
 ],
 "metadata": {
  "kernelspec": {
   "display_name": "Python 3 (ipykernel)",
   "language": "python",
   "name": "python3"
  },
  "language_info": {
   "codemirror_mode": {
    "name": "ipython",
    "version": 3
   },
   "file_extension": ".py",
   "mimetype": "text/x-python",
   "name": "python",
   "nbconvert_exporter": "python",
   "pygments_lexer": "ipython3",
   "version": "3.11.4"
  }
 },
 "nbformat": 4,
 "nbformat_minor": 5
}
